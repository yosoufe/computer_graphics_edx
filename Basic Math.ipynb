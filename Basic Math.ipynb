{
 "cells": [
  {
   "cell_type": "markdown",
   "metadata": {},
   "source": [
    "# Basic Math\n",
    "\n",
    "* Vector\n",
    "* Sum of Vectors\n",
    "* ...."
   ]
  },
  {
   "cell_type": "markdown",
   "metadata": {},
   "source": [
    "# Dot (scalar) Product\n",
    "\n",
    "$$ \\vec{a} \\cdot \\vec{b} = \\vec{b} \\cdot \\vec{a} = ||\\vec{a}|| \\ ||\\vec{b}|| \\ cos(\\phi)$$"
   ]
  },
  {
   "cell_type": "markdown",
   "metadata": {},
   "source": [
    "$$ \\phi = cos^{-1}\\left( \\dfrac{\\vec{a}\\cdot\\vec{b}}{||\\vec{a}|| \\ ||\\vec{b}||} \\right) $$"
   ]
  },
  {
   "cell_type": "markdown",
   "metadata": {},
   "source": [
    "$$ \\vec{a} \\cdot ( \\vec{b} + \\vec{c} ) = \\vec{a} \\cdot \\vec{b} + \\vec{a} \\cdot \\vec{c} $$"
   ]
  },
  {
   "cell_type": "markdown",
   "metadata": {},
   "source": [
    "$$ (k \\vec{a}) \\cdot b = \\vec{a} \\cdot (k \\vec{b}) = k (\\vec{a} \\cdot \\vec{b})$$"
   ]
  },
  {
   "cell_type": "markdown",
   "metadata": {},
   "source": []
  }
 ],
 "metadata": {
  "kernelspec": {
   "display_name": "Python 3.7 (RL Spin-up)",
   "language": "python",
   "name": "rl37"
  },
  "language_info": {
   "codemirror_mode": {
    "name": "ipython",
    "version": 3
   },
   "file_extension": ".py",
   "mimetype": "text/x-python",
   "name": "python",
   "nbconvert_exporter": "python",
   "pygments_lexer": "ipython3",
   "version": "3.7.6"
  }
 },
 "nbformat": 4,
 "nbformat_minor": 2
}
