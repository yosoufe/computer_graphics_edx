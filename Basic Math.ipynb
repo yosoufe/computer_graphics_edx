{
 "cells": [
  {
   "cell_type": "markdown",
   "metadata": {},
   "source": [
    "# Basic Math\n",
    "\n",
    "* Vector\n",
    "* Sum of Vectors\n",
    "* ...."
   ]
  },
  {
   "cell_type": "markdown",
   "metadata": {},
   "source": [
    "# Dot (scalar) Product\n",
    "\n",
    "$$ \\vec{a} \\cdot \\vec{b} = \\vec{b} \\cdot \\vec{a} = ||\\vec{a}|| \\ ||\\vec{b}|| \\ cos(\\phi)$$"
   ]
  },
  {
   "cell_type": "markdown",
   "metadata": {},
   "source": [
    "$$ \\phi = cos^{-1}\\left( \\dfrac{\\vec{a}\\cdot\\vec{b}}{||\\vec{a}|| \\ ||\\vec{b}||} \\right) $$"
   ]
  },
  {
   "cell_type": "markdown",
   "metadata": {},
   "source": [
    "$$ \\vec{a} \\cdot ( \\vec{b} + \\vec{c} ) = \\vec{a} \\cdot \\vec{b} + \\vec{a} \\cdot \\vec{c} $$"
   ]
  },
  {
   "cell_type": "markdown",
   "metadata": {},
   "source": [
    "$$ (k \\vec{a}) \\cdot \\vec{b} = \\vec{a} \\cdot (k \\vec{b}) = k (\\vec{a} \\cdot \\vec{b})$$"
   ]
  },
  {
   "cell_type": "markdown",
   "metadata": {},
   "source": [
    "$$ \\vec{a} \\cdot \\vec{b} =  \n",
    "\\begin{bmatrix}\n",
    "x_a \\\\\n",
    "y_a\n",
    "\\end{bmatrix} \n",
    "\\cdot\n",
    "\\begin{bmatrix}\n",
    "x_b \\\\\n",
    "y_b\n",
    "\\end{bmatrix} = \n",
    "x_a  x_b + y_a  y_b $$"
   ]
  },
  {
   "cell_type": "markdown",
   "metadata": {},
   "source": [
    "Project of vector $ \\vec{b} $ on $ \\vec{a} $:\n",
    "\n",
    "$$\n",
    "|| \\vec{b} \\longrightarrow \\vec{a} || = || \\vec{b} || cos(\\phi) = \\dfrac{\\vec{a} \\cdot \\vec{b}}{||\\vec{a}||}\n",
    "$$"
   ]
  },
  {
   "cell_type": "markdown",
   "metadata": {},
   "source": [
    "$$\n",
    "\\vec{b} \\longrightarrow \\vec{a} = || \\vec{b} \\longrightarrow \\vec{a} || \\dfrac{\\vec{a}}{||\\vec{a}||} = \\dfrac{\\vec{a} \\cdot \\vec{b}}{||\\vec{a}||^2}\\vec{a}\n",
    "$$"
   ]
  },
  {
   "cell_type": "markdown",
   "metadata": {},
   "source": [
    "# Cross Product\n",
    "area that is covered by $\\vec{a}$ and $\\vec{b}$\n",
    "$$\n",
    "\\vec{a} \\times \\vec{b} = - \\vec{b} \\times \\vec{a}\n",
    "$$"
   ]
  },
  {
   "cell_type": "markdown",
   "metadata": {},
   "source": [
    "$$\n",
    "||\\vec{a} \\times \\vec{b}|| = ||\\vec{a}|| \\ ||\\vec{b}|| sin(\\phi)\n",
    "$$"
   ]
  },
  {
   "cell_type": "markdown",
   "metadata": {},
   "source": [
    "$$\n",
    "\\vec{a} \\times \\vec{a} = 0\n",
    "$$"
   ]
  },
  {
   "cell_type": "markdown",
   "metadata": {},
   "source": [
    "$$\n",
    "\\vec{a} \\times (\\vec{b} + \\vec{c}) = \\vec{a} \\times \\vec{b} + \\vec{a} \\times \\vec{c}\n",
    "$$"
   ]
  },
  {
   "cell_type": "markdown",
   "metadata": {},
   "source": [
    "$$\n",
    "\\vec{a} \\times (k\\vec{b}) = k(\\vec{a} \\times \\vec{b})\n",
    "$$"
   ]
  },
  {
   "cell_type": "markdown",
   "metadata": {},
   "source": [
    "$$ \\vec{a} \\times \\vec{b} =  \n",
    "\\begin{bmatrix}\n",
    "x_a \\\\\n",
    "y_a \\\\\n",
    "z_a\n",
    "\\end{bmatrix} \n",
    "\\times\n",
    "\\begin{bmatrix}\n",
    "x_b \\\\\n",
    "y_b \\\\\n",
    "z_b\n",
    "\\end{bmatrix} = \n",
    "\\begin{vmatrix}\n",
    "\\vec{i} & \\vec{j} & \\vec{k}\\\\\n",
    "x_a & y_a & z_a \\\\\n",
    "x_b & y_b & z_b\n",
    "\\end{vmatrix} =\n",
    "\\begin{bmatrix}\n",
    "y_a z_b - y_b z_a \\\\\n",
    "z_a x_b - x_a z_b \\\\\n",
    "x_a y_b - y_a x_b\n",
    "\\end{bmatrix} = \n",
    "A^*\\vec{b} = \n",
    "\\begin{bmatrix}\n",
    "0 & -z_a & y_a\\\\\n",
    "z_a & 0 & -x_a \\\\\n",
    "-y_a & x_a & 0\n",
    "\\end{bmatrix}\n",
    "\\begin{bmatrix}\n",
    "x_b \\\\\n",
    "y_b \\\\\n",
    "z_b\n",
    "\\end{bmatrix}$$\n",
    "$A^*$ is called dual matrixs of $\\vec{a}$"
   ]
  },
  {
   "cell_type": "markdown",
   "metadata": {},
   "source": [
    "# Orthonormal Bases / Coordinate Frames\n",
    "\n",
    "Coordinate Frames in 3d are any set of three vectors:\n",
    "* Such they are unit vectors $ ||\\vec{u}||= ||\\vec{v}|| = ||\\vec{w}|| = 1 $\n",
    "* Such they are mutually orthogonal to each other $\\vec{u} \\cdot \\vec{v} = \\vec{v} \\cdot \\vec{w} = \\vec{w} \\cdot \\vec{u} = 0 $\n",
    "* Such cross product of two of them is the other $\\vec{w} = \\vec{u} \\times \\vec{v}$"
   ]
  },
  {
   "cell_type": "markdown",
   "metadata": {},
   "source": [
    "$ \\vec{p} = (\\vec{p} \\cdot \\vec{u})\\vec{u} + (\\vec{p} \\cdot \\vec{v})\\vec{v} + (\\vec{p} \\cdot \\vec{w}) \\vec{w} $ "
   ]
  },
  {
   "cell_type": "markdown",
   "metadata": {},
   "source": [
    "# Matrix\n",
    "* Addition\n",
    "* Multiplication\n",
    "    * Associative and distributive\n",
    "    * Not commutative\n",
    "* Transpose\n",
    "    * $(AB)^T = (B^T A^T)$\n",
    "* Identity and Inverses:\n",
    "    * $ A A^{-1} = A^{-1} A = I $\n",
    "    * $ (A B)^ {-1} = B^{-1} A^{-1} $\n",
    "* Dot product as Matrix Production\n",
    "    * $\\vec{a} \\cdot \\vec{b} = \\vec{a}^{T} \\vec{b}$ "
   ]
  }
 ],
 "metadata": {
  "kernelspec": {
   "display_name": "Python 3.7 (RL Spin-up)",
   "language": "python",
   "name": "rl37"
  },
  "language_info": {
   "codemirror_mode": {
    "name": "ipython",
    "version": 3
   },
   "file_extension": ".py",
   "mimetype": "text/x-python",
   "name": "python",
   "nbconvert_exporter": "python",
   "pygments_lexer": "ipython3",
   "version": "3.7.6"
  }
 },
 "nbformat": 4,
 "nbformat_minor": 2
}
