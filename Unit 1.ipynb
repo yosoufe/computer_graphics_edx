{
 "cells": [
  {
   "cell_type": "markdown",
   "metadata": {},
   "source": [
    "# Transforms\n",
    "* Translations\n",
    "* Rotations\n",
    "* Shears\n",
    "* Scales"
   ]
  },
  {
   "cell_type": "markdown",
   "metadata": {},
   "source": [
    "# Nonuniform Scale\n",
    "\n",
    "$$\n",
    "Scale(s_x, s_y)=\n",
    "\\begin{bmatrix}\n",
    "s_x & 0\\\\\n",
    "0 & s_y\n",
    "\\end{bmatrix}\n",
    "$$"
   ]
  },
  {
   "cell_type": "markdown",
   "metadata": {},
   "source": [
    "$$\n",
    "S^{-1}=\n",
    "\\begin{bmatrix}\n",
    "s_x^{-1} & 0\\\\\n",
    "0 & s_y^{-1}\n",
    "\\end{bmatrix}\n",
    "$$"
   ]
  },
  {
   "cell_type": "markdown",
   "metadata": {},
   "source": [
    "$$\n",
    "\\begin{bmatrix}\n",
    "s_x & 0 & 0\\\\\n",
    "0 & s_y & 0 \\\\\n",
    "0 & 0 & s_Z\n",
    "\\end{bmatrix}\n",
    "\\begin{bmatrix}\n",
    "x\\\\\n",
    "y\\\\\n",
    "z\n",
    "\\end{bmatrix}=\n",
    "\\begin{bmatrix}\n",
    "s_x x\\\\\n",
    "s_y y\\\\\n",
    "s_z z\n",
    "\\end{bmatrix}\n",
    "$$"
   ]
  },
  {
   "cell_type": "markdown",
   "metadata": {},
   "source": [
    "# Shear\n",
    "\n",
    "$$\n",
    "Shear=\n",
    "\\begin{bmatrix}\n",
    "1 & a\\\\\n",
    "0 & 1\n",
    "\\end{bmatrix}\n",
    "$$"
   ]
  },
  {
   "cell_type": "markdown",
   "metadata": {},
   "source": [
    "$$\n",
    "Shear^{-1}=\n",
    "\\begin{bmatrix}\n",
    "1 & -a\\\\\n",
    "0 & 1\n",
    "\\end{bmatrix}\n",
    "$$"
   ]
  },
  {
   "cell_type": "markdown",
   "metadata": {},
   "source": [
    "$Y$ does not change but $X$ changes with the amount of $Y$"
   ]
  },
  {
   "cell_type": "markdown",
   "metadata": {},
   "source": [
    "# Rotation\n",
    "\n",
    "In 2D if we want to rotate the point $p$ angle $\\phi$:\n",
    "$$\n",
    "p' = \n",
    "\\begin{bmatrix}\n",
    "cos(\\phi) & -sin(\\phi)\\\\\n",
    "sin(\\phi) & cos(\\phi)\n",
    "\\end{bmatrix}\n",
    "p\n",
    "$$"
   ]
  },
  {
   "cell_type": "markdown",
   "metadata": {},
   "source": [
    "# Composing Transforms"
   ]
  },
  {
   "cell_type": "markdown",
   "metadata": {},
   "source": [
    "# 3D Rotations\n",
    "\n",
    "Orthogonal:\n",
    "$$ RR^{-1} = I$$"
   ]
  },
  {
   "cell_type": "markdown",
   "metadata": {},
   "source": [
    "$$\n",
    "R_z = \n",
    "\\begin{bmatrix}\n",
    "cos(\\phi) & -sin(\\phi) & 0\\\\\n",
    "sin(\\phi) & cos(\\phi) & 0 \\\\\n",
    "0 & 0 & 1\n",
    "\\end{bmatrix}\n",
    "$$"
   ]
  },
  {
   "cell_type": "markdown",
   "metadata": {},
   "source": [
    "$$\n",
    "R_y = \n",
    "\\begin{bmatrix}\n",
    "cos(\\phi) & 0 & sin(\\phi)\\\\\n",
    "0 & 1 & 0 \\\\\n",
    "-sin(\\phi) & 0 & cos(\\phi)\n",
    "\\end{bmatrix}\n",
    "$$"
   ]
  },
  {
   "cell_type": "markdown",
   "metadata": {},
   "source": [
    "$$\n",
    "R_x = \n",
    "\\begin{bmatrix}\n",
    "1 & 0 & 0\\\\\n",
    "0 & cos(\\phi) & -sin(\\phi)\\\\\n",
    "0 & sin(\\phi) & cos(\\phi) \n",
    "\\end{bmatrix}\n",
    "$$"
   ]
  },
  {
   "cell_type": "markdown",
   "metadata": {},
   "source": [
    "* Rows are unit vectors of the new frame\n",
    "* Can construct rotation matrix from orthonormal vectors\n",
    "\n",
    "$$\n",
    "R_{uvw} = \n",
    "\\begin{bmatrix}\n",
    "x_u & y_u & z_u\\\\\n",
    "x_v & y_v & z_v\\\\\n",
    "x_w & y_w & z_w\n",
    "\\end{bmatrix}\n",
    "$$"
   ]
  },
  {
   "cell_type": "markdown",
   "metadata": {},
   "source": [
    "* Projection of a point into a new coordinate frame\n",
    "\n",
    "$$\n",
    "R_{uvw}\\vec{p} = \n",
    "\\begin{bmatrix}\n",
    "x_u & y_u & z_u\\\\\n",
    "x_v & y_v & z_v\\\\\n",
    "x_w & y_w & z_w\n",
    "\\end{bmatrix}\n",
    "\\begin{bmatrix}\n",
    "x_p\\\\\n",
    "y_p\\\\\n",
    "z_p\n",
    "\\end{bmatrix}\n",
    "=\n",
    "\\begin{bmatrix}\n",
    "\\vec{u}^T \\cdot p\\\\\n",
    "\\vec{v}^T \\cdot p\\\\\n",
    "\\vec{z}^T \\cdot p\n",
    "\\end{bmatrix}\n",
    "$$"
   ]
  },
  {
   "cell_type": "markdown",
   "metadata": {},
   "source": [
    "# Axis-Angle Formula\n",
    "Rotating vector (or point) $\\vec{b}$ around axis $\\vec{a}$ by angle $\\theta$.\n",
    "1. Write $\\vec{b}$ as two componenets parallel and prependicular to $\\vec{a}$\n",
    "2. The parallel element does not change\n",
    "3. prependicular "
   ]
  },
  {
   "cell_type": "markdown",
   "metadata": {},
   "source": [
    "### Rodrigues Rotation Formula\n",
    "$$\n",
    "R(\\vec{a}, \\theta) = cos(\\theta)\n",
    "I_{3\\times 3} + (1-cos(\\theta))\n",
    "\\begin{bmatrix}\n",
    "x^2 & xy & xz\\\\\n",
    "xy & y^2 & yz\\\\\n",
    "xz & yz & z^2\n",
    "\\end{bmatrix}\n",
    "+ sin(\\theta)\n",
    "\\begin{bmatrix}\n",
    "0 & -z & y\\\\\n",
    "z & 0 & -x\\\\\n",
    "-y & x & 0\n",
    "\\end{bmatrix}\n",
    "$$"
   ]
  },
  {
   "cell_type": "markdown",
   "metadata": {},
   "source": [
    "# Homogeneous Coordinates\n"
   ]
  }
 ],
 "metadata": {
  "kernelspec": {
   "display_name": "Python 3.7 (RL Spin-up)",
   "language": "python",
   "name": "rl37"
  },
  "language_info": {
   "codemirror_mode": {
    "name": "ipython",
    "version": 3
   },
   "file_extension": ".py",
   "mimetype": "text/x-python",
   "name": "python",
   "nbconvert_exporter": "python",
   "pygments_lexer": "ipython3",
   "version": "3.7.6"
  }
 },
 "nbformat": 4,
 "nbformat_minor": 2
}
